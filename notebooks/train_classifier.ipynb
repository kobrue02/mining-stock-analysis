{
  "cells": [
    {
      "cell_type": "code",
      "source": [
        "!git clone https://github.com/kobrue02/mining-stock-analysis.git"
      ],
      "metadata": {
        "id": "TgUESIf0kLQp",
        "outputId": "a315327e-0f12-4ac1-cb36-38ef283d4476",
        "colab": {
          "base_uri": "https://localhost:8080/"
        }
      },
      "execution_count": 1,
      "outputs": [
        {
          "output_type": "stream",
          "name": "stdout",
          "text": [
            "Cloning into 'mining-stock-analysis'...\n",
            "remote: Enumerating objects: 41, done.\u001b[K\n",
            "remote: Counting objects: 100% (41/41), done.\u001b[K\n",
            "remote: Compressing objects: 100% (28/28), done.\u001b[K\n",
            "remote: Total 41 (delta 9), reused 33 (delta 8), pack-reused 0 (from 0)\u001b[K\n",
            "Receiving objects: 100% (41/41), 17.07 KiB | 17.07 MiB/s, done.\n",
            "Resolving deltas: 100% (9/9), done.\n"
          ]
        }
      ]
    },
    {
      "cell_type": "code",
      "source": [
        "import os\n",
        "os.chdir('mining-stock-analysis')\n",
        "os.getcwd()"
      ],
      "metadata": {
        "id": "aUVE53Zbly5v",
        "outputId": "d15a52c9-ff82-4ef5-e44d-2389e03d921f",
        "colab": {
          "base_uri": "https://localhost:8080/",
          "height": 35
        }
      },
      "execution_count": 2,
      "outputs": [
        {
          "output_type": "execute_result",
          "data": {
            "text/plain": [
              "'/content/mining-stock-analysis'"
            ],
            "application/vnd.google.colaboratory.intrinsic+json": {
              "type": "string"
            }
          },
          "metadata": {},
          "execution_count": 2
        }
      ]
    },
    {
      "cell_type": "code",
      "source": [
        "from src.embeddings.jina_embeddings import JinaEmbeddings\n",
        "from src.embeddings.nomic_embeddings import NomicEmbeddings\n",
        "from src.classifier.logreg import LogRegClassifier\n",
        "from src.classifier.neural_net import CNNClassifier, CNNConfig, CNNLayers\n",
        "from src.pipeline import Pipeline\n",
        "from src.utils.data_loaders import (\n",
        "    load_sentiment_classification_data,\n",
        "    load_headline_dataset,\n",
        ")"
      ],
      "metadata": {
        "id": "QpKu4yONlWYJ"
      },
      "execution_count": 6,
      "outputs": []
    },
    {
      "cell_type": "code",
      "execution_count": null,
      "metadata": {
        "vscode": {
          "languageId": "plaintext"
        },
        "id": "TJQQKk3HkB1e"
      },
      "outputs": [],
      "source": [
        "data = load_headline_dataset(size=1000)\n",
        "embeddings = JinaEmbeddings()\n",
        "conf = CNNConfig.SMALL\n",
        "layers = CNNLayers.SMALL\n",
        "classifier = CNNClassifier(config=conf, layers=layers)\n",
        "pipeline = Pipeline(data=data, embeddings=embeddings, classifier=classifier)\n",
        "pipeline.run_train_test_eval(save_model=True)"
      ]
    }
  ],
  "metadata": {
    "language_info": {
      "name": "python"
    },
    "colab": {
      "provenance": [],
      "machine_shape": "hm",
      "gpuType": "A100"
    },
    "kernelspec": {
      "name": "python3",
      "display_name": "Python 3"
    },
    "accelerator": "GPU"
  },
  "nbformat": 4,
  "nbformat_minor": 0
}