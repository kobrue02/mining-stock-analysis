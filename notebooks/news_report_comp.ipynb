{
 "cells": [
  {
   "cell_type": "code",
   "execution_count": null,
   "metadata": {
    "vscode": {
     "languageId": "plaintext"
    }
   },
   "outputs": [],
   "source": [
    "!git clone https://github.com/kobrue02/mining-stock-analysis.git"
   ]
  },
  {
   "cell_type": "code",
   "execution_count": null,
   "metadata": {
    "vscode": {
     "languageId": "plaintext"
    }
   },
   "outputs": [],
   "source": [
    "import os\n",
    "import pandas as pd\n",
    "os.chdir('mining-stock-analysis')\n",
    "os.getcwd()"
   ]
  },
  {
   "cell_type": "code",
   "execution_count": null,
   "metadata": {
    "vscode": {
     "languageId": "plaintext"
    }
   },
   "outputs": [],
   "source": [
    "df = pd.read_csv(\"data/mining_headlines.csv\")\n",
    "# remove all columns with \"N/A\" in the date column\n",
    "df = df[df[\"date\"] != \"N/A\"]\n",
    "df[\"date\"] = pd.to_datetime(df[\"date\"])\n",
    "df = df.dropna()\n",
    "pipe = Pipeline(news_reports=df, exchange=\"TSX\")\n",
    "nbest = pipe.get_best_two_nr_reports()\n",
    "nbest_df = pd.DataFrame(nbest, columns=[\"report_1\", \"report_2\", \"advance_percentage\", \"date_r1\", \"date_r2\"])"
   ]
  },
  {
   "cell_type": "code",
   "execution_count": null,
   "metadata": {
    "vscode": {
     "languageId": "plaintext"
    }
   },
   "outputs": [],
   "source": [
    "nbest_df"
   ]
  }
 ],
 "metadata": {
  "language_info": {
   "name": "python"
  }
 },
 "nbformat": 4,
 "nbformat_minor": 2
}
