{
  "cells": [
    {
      "cell_type": "markdown",
      "metadata": {
        "id": "view-in-github",
        "colab_type": "text"
      },
      "source": [
        "<a href=\"https://colab.research.google.com/github/kobrue02/mining-stock-analysis/blob/main/notebooks/news_report_comp.ipynb\" target=\"_parent\"><img src=\"https://colab.research.google.com/assets/colab-badge.svg\" alt=\"Open In Colab\"/></a>"
      ]
    },
    {
      "cell_type": "code",
      "execution_count": null,
      "metadata": {
        "vscode": {
          "languageId": "plaintext"
        },
        "id": "NjXugtIskAfI"
      },
      "outputs": [],
      "source": [
        "!git clone https://github.com/kobrue02/mining-stock-analysis.git"
      ]
    },
    {
      "cell_type": "code",
      "execution_count": null,
      "metadata": {
        "vscode": {
          "languageId": "plaintext"
        },
        "id": "iNsRQNpIkAfI"
      },
      "outputs": [],
      "source": [
        "import os\n",
        "import pandas as pd\n",
        "os.chdir('mining-stock-analysis')\n",
        "os.getcwd()"
      ]
    },
    {
      "cell_type": "code",
      "source": [
        "from src.pipeline import Pipeline"
      ],
      "metadata": {
        "id": "X2IPHmGgkCH6"
      },
      "execution_count": null,
      "outputs": []
    },
    {
      "cell_type": "code",
      "execution_count": null,
      "metadata": {
        "vscode": {
          "languageId": "plaintext"
        },
        "id": "wRST0hIWkAfJ"
      },
      "outputs": [],
      "source": [
        "df = pd.read_csv(\"data/mining_headlines.csv\")\n",
        "# remove all columns with \"N/A\" in the date column\n",
        "df = df[df[\"date\"] != \"N/A\"]\n",
        "df[\"date\"] = pd.to_datetime(df[\"date\"])\n",
        "df = df.dropna()\n",
        "pipe = Pipeline(news_reports=df, exchange=\"TSX\")\n",
        "nbest = pipe.get_best_two_nr_reports()\n",
        "nbest_df = pd.DataFrame(nbest, columns=[\"report_1\", \"report_2\", \"advance_percentage\", \"date_r1\", \"date_r2\"])"
      ]
    },
    {
      "cell_type": "code",
      "execution_count": null,
      "metadata": {
        "vscode": {
          "languageId": "plaintext"
        },
        "id": "gkHwiRvWkAfJ"
      },
      "outputs": [],
      "source": [
        "nbest_df"
      ]
    }
  ],
  "metadata": {
    "language_info": {
      "name": "python"
    },
    "colab": {
      "provenance": [],
      "include_colab_link": true
    },
    "kernelspec": {
      "name": "python3",
      "display_name": "Python 3"
    }
  },
  "nbformat": 4,
  "nbformat_minor": 0
}